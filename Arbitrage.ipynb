{
  "cells": [
    {
      "cell_type": "code",
      "execution_count": 409,
      "metadata": {
        "colab": {
          "base_uri": "https://localhost:8080/"
        },
        "id": "PYd3r7dVhcCf",
        "outputId": "e802bbb3-c5b6-4495-f5db-3e0c931ad088"
      },
      "outputs": [
        {
          "name": "stdout",
          "output_type": "stream",
          "text": [
            "Note: you may need to restart the kernel to use updated packages.\n",
            "Note: you may need to restart the kernel to use updated packages.\n",
            "Note: you may need to restart the kernel to use updated packages.\n",
            "Note: you may need to restart the kernel to use updated packages.\n",
            "Note: you may need to restart the kernel to use updated packages.\n"
          ]
        }
      ],
      "source": [
        "%pip install -q python-binance==1.0.19\n",
        "%pip install -q pandas==2.0.3\n",
        "%pip install -q numpy==1.25.0\n",
        "%pip install -q requests==2.31.0\n",
        "%pip install -q keyboard==0.13.5\n",
        "%reset -f"
      ]
    },
    {
      "cell_type": "code",
      "execution_count": 410,
      "metadata": {},
      "outputs": [],
      "source": [
        "import pandas as pd\n",
        "import numpy  as np\n",
        "import datetime\n",
        "import requests\n",
        "import time\n",
        "import keyboard\n",
        "\n",
        "from IPython.display import clear_output\n",
        "\n",
        "pd.options.display.float_format = '{:,.8f}'.format"
      ]
    },
    {
      "cell_type": "code",
      "execution_count": 411,
      "metadata": {},
      "outputs": [],
      "source": [
        "api_key    = ''\n",
        "api_secret = ''\n",
        "headers    = {'X-MBX-APIKEY' : api_key}"
      ]
    },
    {
      "cell_type": "code",
      "execution_count": 412,
      "metadata": {},
      "outputs": [],
      "source": [
        "def getSignatureHmac(params):\n",
        "  import hmac\n",
        "  import hashlib\n",
        "\n",
        "  s = '&'.join([f'{param}={value}' for param, value in params.items()])\n",
        "\n",
        "  h = hmac.new(api_secret.encode(\"utf-8\"), s.encode(\"utf-8\"), hashlib.sha256 ).hexdigest()\n",
        "\n",
        "  params['signature']  = h\n",
        "\n",
        "  return params"
      ]
    },
    {
      "cell_type": "code",
      "execution_count": 413,
      "metadata": {
        "id": "D2fVC_lfAiH4"
      },
      "outputs": [],
      "source": [
        "def getAssets():\n",
        "  \"\"\"\n",
        "  Return the assets table with a some treatments; \n",
        "  \"\"\"\n",
        "\n",
        "  #Get table of Binance assets\n",
        "  r = requests.get('https://api.binance.com/api/v3/exchangeInfo')\n",
        "  assets = pd.json_normalize(r.json()['symbols'], \"filters\", ['symbol',\t'status',\t'baseAsset', 'quoteAsset', 'baseAssetPrecision'])\n",
        "  assets = assets.replace('NaN', np.nan).replace('nan', np.nan)\n",
        "\n",
        "  #SELECT\n",
        "  columns = {\n",
        "             'symbol'            : str\n",
        "            ,'baseAsset'         : str\n",
        "            ,'quoteAsset'        : str\n",
        "            ,'filterType'        : str\n",
        "            ,'status'            : str\n",
        "            ,'minPrice'          : float\n",
        "            ,'maxPrice'          : float\n",
        "            ,'tickSize'          : float                                       \n",
        "            ,'bidMultiplierUp'   : float\n",
        "            ,'bidMultiplierDown' : float\n",
        "            ,'askMultiplierUp'   : float\n",
        "            ,'askMultiplierDown' : float\n",
        "            ,'avgPriceMins'      : float\n",
        "            ,'avgPriceMins'      : float\n",
        "            ,'minQty'            : float\n",
        "            ,'maxQty'            : float\n",
        "            ,'stepSize'          : float\n",
        "            ,'baseAssetPrecision': int\n",
        "            }\n",
        "  \n",
        "  assets = assets[columns.keys()]\n",
        "\n",
        "  #CONVERT\n",
        "  assets = assets.astype(columns)\n",
        "\n",
        "  #FILTER\n",
        "  #Doc of Binance v3 API:\n",
        "  #Only currencies being traded\n",
        "  #The PRICE_FILTER defines the price rules for a symbol\n",
        "  #The PERCENT_PRICE_BY_SIDE filter defines the valid range for the price based on the last price of the symbol.\n",
        "  #The LOT_SIZE filter defines the quantity (aka \"lots\" in auction terms) rules for a symbol.\n",
        "  assets = assets[(assets['status'] == \"TRADING\") & assets['filterType'].isin([\"PRICE_FILTER\", \"LOT_SIZE\", \"PERCENT_PRICE_BY_SIDE\"])]\\\n",
        "                 .drop(columns=['status', 'filterType'])\\\n",
        "                 .dropna(axis='columns', how='all')\n",
        "\n",
        "  #GROUP\n",
        "  assets = assets.groupby(['symbol', 'baseAsset', 'quoteAsset'], as_index=False).max()\n",
        "\n",
        "  return assets"
      ]
    },
    {
      "cell_type": "code",
      "execution_count": 414,
      "metadata": {},
      "outputs": [],
      "source": [
        "def getFees():\n",
        "  \"\"\"\n",
        "  Return the fees table; \n",
        "  \"\"\"\n",
        "  columns = {\n",
        "               'symbol'          : str\n",
        "              ,'makerCommission' : float\n",
        "              ,'takerCommission' : float\n",
        "            }\n",
        "  params = {'timestamp' : int(time.time() * 1000)}\n",
        "  return pd.DataFrame(requests.get('https://api.binance.com/sapi/v1/asset/tradeFee', headers=headers, params=getSignatureHmac(params)).json()).astype(columns)"
      ]
    },
    {
      "cell_type": "code",
      "execution_count": 415,
      "metadata": {},
      "outputs": [],
      "source": [
        "def getPrices():\n",
        "  \"\"\"\n",
        "  Return the price table; \n",
        "  \"\"\"\n",
        "  columns = {\n",
        "               'symbol': str\n",
        "              ,'price' : float\n",
        "            }\n",
        "  return pd.DataFrame(requests.get('https://api.binance.com/api/v3/ticker/price').json()).astype(columns)"
      ]
    },
    {
      "cell_type": "code",
      "execution_count": 416,
      "metadata": {},
      "outputs": [],
      "source": [
        "def getTickers():\n",
        "  \"\"\"\n",
        "  Return the tickers table; \n",
        "  \"\"\"\n",
        "  columns = {\n",
        "               'symbol'   : str\n",
        "              ,'bidPrice' : float\n",
        "              ,'bidQty'   : float\n",
        "              ,'askPrice' : float\n",
        "              ,'askQty'   : float\n",
        "            }\n",
        "  return pd.DataFrame(requests.get('https://api.binance.com/api/v3/ticker/bookTicker').json()).astype(columns)"
      ]
    },
    {
      "cell_type": "code",
      "execution_count": 417,
      "metadata": {},
      "outputs": [],
      "source": [
        "def getArbritrage(assets, fees, prices):\n",
        "    \"\"\"\n",
        "    Calculate the arbritage factor table:\n",
        "    return table with the arbitrage factor, if arbFactor > 0 then it's possible arbritage otherwise not;\n",
        "\n",
        "    getArbritrage(assets, fees, prices)\n",
        "    Parameters:\n",
        "        assets: pandas Dataframe, must contain the columns: symbol, baseAsset, quoteAsset\n",
        "        fees:   pandas Dataframe, must contain the columns: symbol, takerCommission\n",
        "        prices: pandas Dataframe:\n",
        "                if table contains the column named 'price' then the calculation will be done with this column\n",
        "                that represent the spot price. (TABLE getPrices())\n",
        "                else if table contains two columns named 'askPrice' and 'bidPrice' then the calculation will\n",
        "                be done with these columns that represent sell price offer and buy price offer. (TABLE getTickers())\n",
        "    \"\"\"\n",
        "\n",
        "    #Treatment of args    \n",
        "    c = prices.columns\n",
        "    if  'price' in c:\n",
        "        tpBuy = 'price'\n",
        "        tpSel = 'price'\n",
        "    elif 'askPrice' in c and 'bidPrice' in c:\n",
        "        tpBuy = 'askPrice'\n",
        "        tpSel = 'bidPrice'\n",
        "    else:\n",
        "        raise Exception(\"The table dont have price or (askPrice and bidPrice) columns.\") \n",
        "\n",
        "    base = assets.merge(fees   , on='symbol', how='left')\\\n",
        "                 .merge(prices, on='symbol', how='left')\n",
        "    \n",
        "    operation = {\n",
        "     'buy':{'symbol': 'symbol', 'baseAsset': 'end'  , 'quoteAsset': 'start', tpBuy: 'marketPrice', 'takerCommission': 'tax'}\n",
        "    ,'sel':{'symbol': 'symbol', 'baseAsset': 'start', 'quoteAsset': 'end'  , tpSel: 'marketPrice', 'takerCommission': 'tax'}\n",
        "    }\n",
        "    \n",
        "    buy = base.rename(columns=operation['buy'])[operation['buy'].values()]\n",
        "    buy['op'] = 'buy'\n",
        "    buy[\"marketPrice\"] = np.power((buy[\"marketPrice\"]),-1)\n",
        "\n",
        "    sel = base.rename(columns=operation['sel'])[operation['sel'].values()]\n",
        "    sel['op'] = 'sel'\n",
        "\n",
        "    conc = pd.concat([buy, sel])\n",
        "\n",
        "    #merge two times\n",
        "    m =  conc.merge(conc, left_on='end', right_on='start', how='inner', suffixes=('_0', None)).query('start_0 != end')\\\n",
        "             .merge(conc, left_on='end', right_on='start', how='inner', suffixes=('_1', '_2')).query('start_1 != end_2 and start_0 == end_2')\n",
        "\n",
        "    #Three operations, all with taxes, start with 1 unit of the first operation coin\n",
        "    m['arbFactor'] = m['marketPrice_0']* (1-m['tax_0'])*m['marketPrice_1']* (1-m['tax_1'])*m['marketPrice_2']*(1-m['tax_2'])\n",
        "\n",
        "    m = m\\\n",
        "        [['arbFactor', 'symbol_0', 'symbol_1', 'symbol_2', 'op_0', 'op_1', 'op_2']]\\\n",
        "        .sort_values('arbFactor', axis=0, ascending=False, ignore_index=True)\n",
        "\n",
        "    return m"
      ]
    },
    {
      "cell_type": "code",
      "execution_count": 418,
      "metadata": {},
      "outputs": [],
      "source": [
        "def startSearch(factor):\n",
        "\n",
        "  a = getAssets()[['symbol', 'baseAsset', 'quoteAsset']]\n",
        "  f = getFees()\n",
        "  ar_std = pd.DataFrame()\n",
        "\n",
        "  while True:\n",
        "    try:\n",
        "      start = time.time()\n",
        "\n",
        "      df = getArbritrage(a, f, getTickers())\n",
        "      ar = df[df['arbFactor'] > factor]\n",
        "      hd = df.head(5)\n",
        "\n",
        "      clear_output(wait=True)\n",
        "\n",
        "      print('To stop keep key \"q\" pressed or stop the cell!')\n",
        "      \n",
        "      print('\\nAssets that could be arbitraged with the factor greather than {}: {}'.format(factor ,len(ar_std.index)))\n",
        "      if ar_std.empty == False:\n",
        "        ar['time'] = datetime.datetime.now()\n",
        "        ar_std = pd.concat([ar, ar_std])\n",
        "        print(ar_std.to_string(index=False))\n",
        "\n",
        "      print('\\nAssets in the top 5')\n",
        "      print(hd.to_string(index=False))\n",
        "\n",
        "      print(\"\\nseconds/loop: {}\".format(time.time() - start))\n",
        "    \n",
        "    except:\n",
        "      pass\n",
        "\n",
        "    if keyboard.is_pressed(\"q\"):        \n",
        "        break"
      ]
    },
    {
      "cell_type": "code",
      "execution_count": 420,
      "metadata": {},
      "outputs": [
        {
          "name": "stdout",
          "output_type": "stream",
          "text": [
            "To stop keep key \"q\" pressed or stop the cell!\n",
            "\n",
            "Assets that could be arbitraged if the factor greather than 1: 0\n",
            "\n",
            "Assets in the top 5\n",
            " arbFactor  symbol_0  symbol_1  symbol_2 op_0 op_1 op_2\n",
            "0.99990009 FDUSDUSDT  BUSDUSDT FDUSDBUSD  sel  buy  buy\n",
            "0.99990009  BUSDUSDT FDUSDBUSD FDUSDUSDT  buy  buy  sel\n",
            "0.99990009 FDUSDBUSD FDUSDUSDT  BUSDUSDT  buy  sel  buy\n",
            "0.99980037  TUSDBUSD  TUSDUSDT  BUSDUSDT  buy  sel  buy\n",
            "0.99980037  BUSDUSDT  TUSDBUSD  TUSDUSDT  buy  buy  sel\n",
            "\n",
            "seconds/loop: 1.4593696594238281\n"
          ]
        }
      ],
      "source": [
        "startSearch(1)"
      ]
    }
  ],
  "metadata": {
    "colab": {
      "provenance": []
    },
    "kernelspec": {
      "display_name": "Python 3",
      "name": "python3"
    },
    "language_info": {
      "codemirror_mode": {
        "name": "ipython",
        "version": 3
      },
      "file_extension": ".py",
      "mimetype": "text/x-python",
      "name": "python",
      "nbconvert_exporter": "python",
      "pygments_lexer": "ipython3",
      "version": "3.11.4"
    }
  },
  "nbformat": 4,
  "nbformat_minor": 0
}
